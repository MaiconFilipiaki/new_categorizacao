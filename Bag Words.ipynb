{
 "cells": [
  {
   "cell_type": "code",
   "execution_count": 1,
   "metadata": {
    "pycharm": {
     "is_executing": false
    }
   },
   "outputs": [],
   "source": [
    "import pandas as pd\n",
    "from pandas import DataFrame\n",
    "import matplotlib.pyplot as plt\n",
    "\n",
    "import numpy as np\n",
    "import sklearn\n",
    "from sklearn import metrics\n",
    "from sklearn.feature_extraction.text import CountVectorizer\n",
    "from sklearn.ensemble import RandomForestClassifier\n",
    "from sklearn.pipeline import Pipeline\n",
    "\n",
    "%matplotlib inline"
   ]
  },
  {
   "cell_type": "code",
   "execution_count": 2,
   "metadata": {
    "pycharm": {
     "is_executing": false
    }
   },
   "outputs": [],
   "source": [
    "bag_df = pd.read_csv('bag_words.csv', sep=';')"
   ]
  },
  {
   "cell_type": "code",
   "execution_count": 3,
   "metadata": {
    "pycharm": {
     "is_executing": false
    }
   },
   "outputs": [],
   "source": [
    "bag_df.columns = ['', 'link', 'categoria', 'texto']"
   ]
  },
  {
   "cell_type": "code",
   "execution_count": 4,
   "metadata": {
    "pycharm": {
     "is_executing": false
    }
   },
   "outputs": [
    {
     "data": {
      "text/html": [
       "<div>\n",
       "<style scoped>\n",
       "    .dataframe tbody tr th:only-of-type {\n",
       "        vertical-align: middle;\n",
       "    }\n",
       "\n",
       "    .dataframe tbody tr th {\n",
       "        vertical-align: top;\n",
       "    }\n",
       "\n",
       "    .dataframe thead th {\n",
       "        text-align: right;\n",
       "    }\n",
       "</style>\n",
       "<table border=\"1\" class=\"dataframe\">\n",
       "  <thead>\n",
       "    <tr style=\"text-align: right;\">\n",
       "      <th></th>\n",
       "      <th></th>\n",
       "      <th>link</th>\n",
       "      <th>categoria</th>\n",
       "      <th>texto</th>\n",
       "    </tr>\n",
       "  </thead>\n",
       "  <tbody>\n",
       "    <tr>\n",
       "      <th>0</th>\n",
       "      <td>0</td>\n",
       "      <td>http://g1.globo.com/sp/sao-carlos-regiao/notic...</td>\n",
       "      <td>agro</td>\n",
       "      <td>fundo defesa citricultura fundecitrus araraqua...</td>\n",
       "    </tr>\n",
       "    <tr>\n",
       "      <th>1</th>\n",
       "      <td>1</td>\n",
       "      <td>http://g1.globo.com/sp/piracicaba-regiao/notic...</td>\n",
       "      <td>agro</td>\n",
       "      <td>universidade paulo usp piracicabasp anunciou i...</td>\n",
       "    </tr>\n",
       "    <tr>\n",
       "      <th>2</th>\n",
       "      <td>2</td>\n",
       "      <td>http://g1.globo.com/economia/agronegocios/noti...</td>\n",
       "      <td>agro</td>\n",
       "      <td>exportações carne bovina brasil deverão cresce...</td>\n",
       "    </tr>\n",
       "    <tr>\n",
       "      <th>3</th>\n",
       "      <td>3</td>\n",
       "      <td>http://g1.globo.com/economia/midia-e-marketing...</td>\n",
       "      <td>agro</td>\n",
       "      <td>mcdonalds saladas compostas vegetais orgânicos...</td>\n",
       "    </tr>\n",
       "    <tr>\n",
       "      <th>4</th>\n",
       "      <td>4</td>\n",
       "      <td>http://g1.globo.com/sp/sao-carlos-regiao/notic...</td>\n",
       "      <td>agro</td>\n",
       "      <td>utilizando substâncias homeopáticas pesquisado...</td>\n",
       "    </tr>\n",
       "  </tbody>\n",
       "</table>\n",
       "</div>"
      ],
      "text/plain": [
       "                                                   link categoria  \\\n",
       "0  0  http://g1.globo.com/sp/sao-carlos-regiao/notic...      agro   \n",
       "1  1  http://g1.globo.com/sp/piracicaba-regiao/notic...      agro   \n",
       "2  2  http://g1.globo.com/economia/agronegocios/noti...      agro   \n",
       "3  3  http://g1.globo.com/economia/midia-e-marketing...      agro   \n",
       "4  4  http://g1.globo.com/sp/sao-carlos-regiao/notic...      agro   \n",
       "\n",
       "                                               texto  \n",
       "0  fundo defesa citricultura fundecitrus araraqua...  \n",
       "1  universidade paulo usp piracicabasp anunciou i...  \n",
       "2  exportações carne bovina brasil deverão cresce...  \n",
       "3  mcdonalds saladas compostas vegetais orgânicos...  \n",
       "4  utilizando substâncias homeopáticas pesquisado...  "
      ]
     },
     "execution_count": 4,
     "metadata": {},
     "output_type": "execute_result"
    }
   ],
   "source": [
    "bag_df.head()"
   ]
  },
  {
   "cell_type": "code",
   "execution_count": 5,
   "metadata": {
    "pycharm": {
     "is_executing": false
    }
   },
   "outputs": [
    {
     "name": "stdout",
     "output_type": "stream",
     "text": [
      "<class 'pandas.core.frame.DataFrame'>\n",
      "RangeIndex: 702 entries, 0 to 701\n",
      "Data columns (total 4 columns):\n",
      "             702 non-null int64\n",
      "link         702 non-null object\n",
      "categoria    702 non-null object\n",
      "texto        428 non-null object\n",
      "dtypes: int64(1), object(3)\n",
      "memory usage: 22.0+ KB\n"
     ]
    }
   ],
   "source": [
    "bag_df.info()"
   ]
  },
  {
   "cell_type": "code",
   "execution_count": 6,
   "metadata": {
    "pycharm": {
     "is_executing": false
    }
   },
   "outputs": [
    {
     "data": {
      "text/html": [
       "<div>\n",
       "<style scoped>\n",
       "    .dataframe tbody tr th:only-of-type {\n",
       "        vertical-align: middle;\n",
       "    }\n",
       "\n",
       "    .dataframe tbody tr th {\n",
       "        vertical-align: top;\n",
       "    }\n",
       "\n",
       "    .dataframe thead th {\n",
       "        text-align: right;\n",
       "    }\n",
       "</style>\n",
       "<table border=\"1\" class=\"dataframe\">\n",
       "  <thead>\n",
       "    <tr style=\"text-align: right;\">\n",
       "      <th></th>\n",
       "      <th></th>\n",
       "    </tr>\n",
       "  </thead>\n",
       "  <tbody>\n",
       "    <tr>\n",
       "      <th>count</th>\n",
       "      <td>702.000000</td>\n",
       "    </tr>\n",
       "    <tr>\n",
       "      <th>mean</th>\n",
       "      <td>350.500000</td>\n",
       "    </tr>\n",
       "    <tr>\n",
       "      <th>std</th>\n",
       "      <td>202.794231</td>\n",
       "    </tr>\n",
       "    <tr>\n",
       "      <th>min</th>\n",
       "      <td>0.000000</td>\n",
       "    </tr>\n",
       "    <tr>\n",
       "      <th>25%</th>\n",
       "      <td>175.250000</td>\n",
       "    </tr>\n",
       "    <tr>\n",
       "      <th>50%</th>\n",
       "      <td>350.500000</td>\n",
       "    </tr>\n",
       "    <tr>\n",
       "      <th>75%</th>\n",
       "      <td>525.750000</td>\n",
       "    </tr>\n",
       "    <tr>\n",
       "      <th>max</th>\n",
       "      <td>701.000000</td>\n",
       "    </tr>\n",
       "  </tbody>\n",
       "</table>\n",
       "</div>"
      ],
      "text/plain": [
       "                 \n",
       "count  702.000000\n",
       "mean   350.500000\n",
       "std    202.794231\n",
       "min      0.000000\n",
       "25%    175.250000\n",
       "50%    350.500000\n",
       "75%    525.750000\n",
       "max    701.000000"
      ]
     },
     "execution_count": 6,
     "metadata": {},
     "output_type": "execute_result"
    }
   ],
   "source": [
    "bag_df.describe()"
   ]
  },
  {
   "cell_type": "code",
   "execution_count": 7,
   "metadata": {
    "pycharm": {
     "is_executing": false
    }
   },
   "outputs": [],
   "source": [
    "bag_df_clean = bag_df.dropna()\n",
    "X_train, X_test, Y_train, Y_test = sklearn.model_selection.train_test_split(\n",
    "    bag_df_clean.texto, bag_df_clean.categoria\n",
    ")"
   ]
  },
  {
   "cell_type": "code",
   "execution_count": 8,
   "metadata": {
    "pycharm": {
     "is_executing": false
    }
   },
   "outputs": [],
   "source": [
    "def do_forest(n_estimators, accuracy):\n",
    "    vectorizer = CountVectorizer(analyzer = \"word\", tokenizer = None, preprocessor = None, stop_words = None)\n",
    "    forest = RandomForestClassifier(n_estimators=n_estimators) \n",
    "    pipe = Pipeline([('vect', vectorizer), ('forest', forest)])\n",
    "    pipe.fit(X_train, Y_train)\n",
    "    Y_pred = pipe.predict(X_test)\n",
    "    accuracy.append(metrics.accuracy_score(Y_test,Y_pred))"
   ]
  },
  {
   "cell_type": "code",
   "execution_count": null,
   "metadata": {
    "pycharm": {
     "is_executing": false
    }
   },
   "outputs": [],
   "source": [
    "accuracy = []\n",
    "\n",
    "for n in range(1,150):\n",
    "    do_forest(n, accuracy)"
   ]
  },
  {
   "cell_type": "code",
   "execution_count": 10,
   "metadata": {
    "pycharm": {
     "is_executing": false
    },
    "scrolled": true
   },
   "outputs": [
    {
     "data": {
      "text/plain": [
       "Text(0,0.5,'Testing Accuracy')"
      ]
     },
     "execution_count": 10,
     "metadata": {},
     "output_type": "execute_result"
    },
    {
     "data": {
      "image/png": "[encoded data removed]",
      "text/plain": [
       "<Figure size 432x288 with 1 Axes>"
      ]
     },
     "metadata": {},
     "output_type": "display_data"
    }
   ],
   "source": [
    "plt.plot(range(1, 150), accuracy)\n",
    "plt.xlabel('N Estim. value for for RFC')\n",
    "plt.ylabel('Testing Accuracy')"
   ]
  },
  {
   "cell_type": "code",
   "execution_count": 11,
   "metadata": {
    "pycharm": {
     "is_executing": false
    }
   },
   "outputs": [],
   "source": [
    "url = 'http://g1.globo.com/rs/rio-grande-do-sul/noticia/2017/01/nas-proximas-horas-ou-dias-teremos-novo-relator-da-lava-jato-diz-mello.html'\n",
    "def predict(url):\n",
    "    from news_categorizer import pre_processor\n",
    "    words = pre_processor(url)\n",
    "    resp = pipe.predict([words])\n",
    "    print resp\n",
    "    probs = pipe.predict_proba([words])\n",
    "    resp = zip(pipe.classes_, probs[0])\n",
    "    resp.sort(key=lambda tup: tup[1], reverse=True)\n",
    "    print resp\n",
    "    \n",
    "#predict(url)"
   ]
  },
  {
   "cell_type": "code",
   "execution_count": 13,
   "metadata": {
    "pycharm": {
     "is_executing": false
    }
   },
   "outputs": [],
   "source": [
    "# Running LogisticRegression"
   ]
  },
  {
   "cell_type": "code",
   "execution_count": 12,
   "metadata": {
    "pycharm": {
     "is_executing": false
    }
   },
   "outputs": [],
   "source": [
    "from sklearn.linear_model import LogisticRegression"
   ]
  },
  {
   "cell_type": "code",
   "execution_count": 13,
   "metadata": {
    "pycharm": {
     "is_executing": false
    }
   },
   "outputs": [
    {
     "name": "stdout",
     "output_type": "stream",
     "text": [
      "(321,) (107,) (321,) (107,)\n"
     ]
    }
   ],
   "source": [
    "print X_train.shape, X_test.shape, Y_train.shape, Y_test.shape"
   ]
  },
  {
   "cell_type": "code",
   "execution_count": 14,
   "metadata": {
    "pycharm": {
     "is_executing": false
    }
   },
   "outputs": [
    {
     "name": "stderr",
     "output_type": "stream",
     "text": [
      "/Library/Frameworks/Python.framework/Versions/2.7/lib/python2.7/site-packages/sklearn/linear_model/logistic.py:433: FutureWarning: Default solver will be changed to 'lbfgs' in 0.22. Specify a solver to silence this warning.\n",
      "  FutureWarning)\n",
      "/Library/Frameworks/Python.framework/Versions/2.7/lib/python2.7/site-packages/sklearn/linear_model/logistic.py:460: FutureWarning: Default multi_class will be changed to 'auto' in 0.22. Specify the multi_class option to silence this warning.\n",
      "  \"this warning.\", FutureWarning)\n"
     ]
    },
    {
     "data": {
      "text/plain": [
       "Pipeline(memory=None,\n",
       "     steps=[('vect', CountVectorizer(analyzer='word', binary=False, decode_error=u'strict',\n",
       "        dtype=<type 'numpy.int64'>, encoding=u'utf-8', input=u'content',\n",
       "        lowercase=True, max_df=1.0, max_features=None, min_df=1,\n",
       "        ngram_range=(1, 1), preprocessor=None, stop_words=None,\n",
       "        str...penalty='l2', random_state=None, solver='warn',\n",
       "          tol=0.0001, verbose=0, warm_start=False))])"
      ]
     },
     "execution_count": 14,
     "metadata": {},
     "output_type": "execute_result"
    }
   ],
   "source": [
    "logreg = LogisticRegression()\n",
    "vect = CountVectorizer(analyzer = \"word\", tokenizer = None, preprocessor = None, stop_words = None)\n",
    "pipe = Pipeline([('vect', vect), ('logreg', logreg)])\n",
    "\n",
    "pipe.fit(X_train, Y_train)"
   ]
  },
  {
   "cell_type": "code",
   "execution_count": null,
   "metadata": {
    "pycharm": {
     "is_executing": false
    }
   },
   "outputs": [],
   "source": [
    "Y_pred = pipe.predict(X_test)\n",
    "print metrics.accuracy_score(Y_test,Y_pred)"
   ]
  },
  {
   "cell_type": "code",
   "execution_count": null,
   "metadata": {
    "pycharm": {
     "is_executing": false
    }
   },
   "outputs": [],
   "source": [
    "# Running KNeighborsClassifier"
   ]
  },
  {
   "cell_type": "code",
   "execution_count": null,
   "metadata": {
    "pycharm": {
     "is_executing": false
    }
   },
   "outputs": [],
   "source": [
    "from sklearn.neighbors import KNeighborsClassifier\n",
    "\n",
    "def do_knn(n_neighbors, accuracy):\n",
    "    knn = KNeighborsClassifier(n_neighbors=n_neighbors)\n",
    "    vect = CountVectorizer(analyzer = \"word\", tokenizer = None, preprocessor = None, stop_words = None)\n",
    "    pipe = Pipeline([('vect', vect), ('knn', knn)])\n",
    "\n",
    "    pipe.fit(X_train, Y_train)\n",
    "    Y_pred = pipe.predict(X_test)\n",
    "    acc = metrics.accuracy_score(Y_test,Y_pred)\n",
    "    accuracy.append(acc)"
   ]
  },
  {
   "cell_type": "code",
   "execution_count": null,
   "metadata": {
    "pycharm": {
     "is_executing": false
    }
   },
   "outputs": [],
   "source": [
    "accuracy = []\n",
    "for n in range(1, 100):\n",
    "    do_knn(n, accuracy)"
   ]
  },
  {
   "cell_type": "code",
   "execution_count": null,
   "metadata": {
    "pycharm": {
     "is_executing": false
    }
   },
   "outputs": [],
   "source": [
    "plt.plot(range(1, 100), accuracy)\n",
    "plt.xlabel('K value for for kNN')\n",
    "plt.ylabel('Testing Accuracy')"
   ]
  },
  {
   "cell_type": "code",
   "execution_count": null,
   "metadata": {
    "pycharm": {
     "is_executing": false
    }
   },
   "outputs": [],
   "source": [
    "# Running Naive Bayes"
   ]
  },
  {
   "cell_type": "code",
   "execution_count": null,
   "metadata": {
    "pycharm": {
     "is_executing": false
    }
   },
   "outputs": [],
   "source": [
    "from sklearn.naive_bayes import MultinomialNB\n",
    "\n",
    "def do_nb():\n",
    "    model = MultinomialNB()\n",
    "    vect = CountVectorizer(analyzer = \"word\", tokenizer = None, preprocessor = None, stop_words = None)\n",
    "    pipe = Pipeline([('vect', vect), ('nb', model)])\n",
    "\n",
    "    pipe.fit(X_train, Y_train)\n",
    "    Y_pred = pipe.predict(X_test)\n",
    "    acc = metrics.accuracy_score(Y_test,Y_pred)\n",
    "    print acc\n",
    "\n",
    "do_nb()"
   ]
  },
  {
   "cell_type": "code",
   "execution_count": null,
   "metadata": {
    "pycharm": {
     "is_executing": false
    }
   },
   "outputs": [],
   "source": [
    "# Running SVC"
   ]
  },
  {
   "cell_type": "code",
   "execution_count": null,
   "metadata": {
    "pycharm": {
     "is_executing": false
    }
   },
   "outputs": [],
   "source": [
    "from sklearn.svm import SVC\n",
    "\n",
    "def do_svc(**kwargs):\n",
    "    model = SVC(**kwargs)\n",
    "    vect = CountVectorizer(analyzer = \"word\", tokenizer = None, preprocessor = None, stop_words = None)\n",
    "    pipe = Pipeline([('vect', vect), ('svc', model)])\n",
    "    \n",
    "    pipe.fit(X_train, Y_train)\n",
    "    Y_pred = pipe.predict(X_test)\n",
    "    acc = metrics.accuracy_score(Y_test,Y_pred)\n",
    "    print acc"
   ]
  },
  {
   "cell_type": "code",
   "execution_count": null,
   "metadata": {
    "pycharm": {
     "is_executing": false
    }
   },
   "outputs": [],
   "source": [
    "do_svc()"
   ]
  },
  {
   "cell_type": "code",
   "execution_count": null,
   "metadata": {
    "pycharm": {
     "is_executing": false
    }
   },
   "outputs": [],
   "source": [
    "do_svc(kernel='linear', C=1.0)"
   ]
  },
  {
   "cell_type": "code",
   "execution_count": null,
   "metadata": {
    "pycharm": {
     "is_executing": false
    }
   },
   "outputs": [],
   "source": [
    "do_svc(kernel='rbf', gamma=0.7, C=1.0)"
   ]
  },
  {
   "cell_type": "code",
   "execution_count": null,
   "metadata": {
    "pycharm": {
     "is_executing": false
    }
   },
   "outputs": [],
   "source": [
    "do_svc(kernel='poly', degree=3, C=1.0)"
   ]
  },
  {
   "cell_type": "code",
   "execution_count": null,
   "metadata": {
    "pycharm": {
     "is_executing": false
    }
   },
   "outputs": [],
   "source": [
    "do_svc(C=1.0)"
   ]
  },
  {
   "cell_type": "code",
   "execution_count": null,
   "metadata": {
    "pycharm": {
     "is_executing": false
    }
   },
   "outputs": [],
   "source": [
    "\n",
    "import time\n",
    "import sys\n",
    "import numpy as np\n",
    "\n",
    "\n",
    "class SentimentNetwork:\n",
    "\n",
    "    def __init__(self, reviews, labels, hidden_nodes=10, learning_rate=0.1):\n",
    "        \"\"\"Create a SentimenNetwork with the given settings\n",
    "        Args:\n",
    "            reviews(list) - List of reviews used for training\n",
    "            labels(list) - List of POSITIVE/NEGATIVE labels associated with the given reviews\n",
    "            hidden_nodes(int) - Number of nodes to create in the hidden layer\n",
    "            learning_rate(float) - Learning rate to use while training\n",
    "        \n",
    "        \"\"\"\n",
    "        np.random.seed(1)\n",
    "        self.pre_process_data(reviews, labels)\n",
    "        self.init_network(len(self.review_vocab),hidden_nodes, 1, learning_rate)\n",
    "\n",
    "    def pre_process_data(self, reviews, labels):\n",
    "        review_vocab = set([word for rev in reviews for word in rev.split(' ')])\n",
    "        self.review_vocab = list(review_vocab)\n",
    "        \n",
    "        label_vocab = set([label for label in labels])\n",
    "        self.label_vocab = list(label_vocab)\n",
    "        \n",
    "        self.review_vocab_size = len(self.review_vocab)\n",
    "        self.label_vocab_size = len(self.label_vocab)\n",
    "        \n",
    "        self.word2index = {}\n",
    "        for i, word in enumerate(self.review_vocab):\n",
    "            self.word2index[word] = i\n",
    "        \n",
    "        self.label2index = {}\n",
    "        for i, label in enumerate(self.label_vocab):\n",
    "            self.label2index[label] = i\n",
    "\n",
    "    def init_network(self, input_nodes, hidden_nodes, output_nodes, learning_rate):\n",
    "        self.input_nodes = input_nodes\n",
    "        self.hidden_nodes = hidden_nodes\n",
    "        self.output_nodes = output_nodes\n",
    "\n",
    "        self.learning_rate = learning_rate\n",
    "\n",
    "        self.weights_0_1 = np.zeros((self.input_nodes, self.hidden_nodes))\n",
    "\n",
    "        self.weights_1_2 = np.random.normal(0.0, self.output_nodes**-0.5, \n",
    "                                           (self.hidden_nodes, self.output_nodes))\n",
    "\n",
    "        self.layer_1 = np.zeros((1, hidden_nodes))\n",
    "\n",
    "    def get_target_for_label(self, label):\n",
    "        if label == \"agro\":\n",
    "            return 1\n",
    "        return 0\n",
    "\n",
    "    def sigmoid(self, x):\n",
    "        return 1. / (1. + np.exp(-x))\n",
    "\n",
    "    def sigmoid_output_2_derivative(self, output):\n",
    "        return output * (1 - output)\n",
    "\n",
    "    def train(self, training_reviews_raw, training_labels):\n",
    "        training_reviews = list()\n",
    "        for review in training_reviews_raw:\n",
    "            indices = set()\n",
    "            for word in review.split(\" \"):\n",
    "                if(word in self.word2index.keys()):\n",
    "                    indices.add(self.word2index[word])\n",
    "            training_reviews.append(list(indices))\n",
    "\n",
    "        assert(len(training_reviews) == len(training_labels))\n",
    "\n",
    "        correct_so_far = 0\n",
    "        start = time.time()\n",
    "\n",
    "        for i in range(len(training_reviews)):\n",
    "            review = training_reviews[i]\n",
    "            label = training_labels[i]\n",
    "\n",
    "            self.layer_1 *= 0\n",
    "            for index in review:\n",
    "                self.layer_1 += (self.weights_0_1[index])\n",
    "\n",
    "            layer_2 = self.sigmoid(self.layer_1.dot(self.weights_1_2))\n",
    "\n",
    "            layer_2_error = layer_2 - self.get_target_for_label(label)\n",
    "            layer_2_delta = layer_2_error * self.sigmoid_output_2_derivative(layer_2)\n",
    "\n",
    "            layer_1_error = layer_2_delta.dot(self.weights_1_2.T)\n",
    "            layer_1_delta = layer_1_error\n",
    "\n",
    "            self.weights_1_2 -= self.layer_1.T.dot(layer_2_delta) * self.learning_rate\n",
    "            \n",
    "            for index in review:\n",
    "                self.weights_0_1[index] -= layer_1_delta[0] * self.learning_rate\n",
    "\n",
    "            # Keep track of correct predictions.\n",
    "            if(layer_2 >= 0.5 and label == 'agro'):\n",
    "                correct_so_far += 1\n",
    "            elif(layer_2 < 0.5 and label == 'ciencia'):\n",
    "                correct_so_far += 1\n",
    "\n",
    "            elapsed_time = float(time.time() - start)\n",
    "            reviews_per_second = i / elapsed_time if elapsed_time > 0 else 0\n",
    "\n",
    "            sys.stdout.write(\"\\rProgress:\" + str(100 * i/float(len(training_reviews)))[:4] \\\n",
    "                             + \"% Speed(reviews/sec):\" + str(reviews_per_second)[0:5] \\\n",
    "                             + \" #Correct:\" + str(correct_so_far) + \" #Trained:\" + str(i+1) \\\n",
    "                             + \" Training Accuracy:\" + str(correct_so_far * 100 / float(i+1))[:4] + \"%\")\n",
    "            if(i % 2500 == 0):\n",
    "                print(\"\")\n",
    "\n",
    "    def test(self, testing_reviews, testing_labels):\n",
    "        \"\"\"\n",
    "        Attempts to predict the labels for the given testing_reviews,\n",
    "        and uses the test_labels to calculate the accuracy of those predictions.\n",
    "        \"\"\"\n",
    "        correct = 0\n",
    "        start = time.time()\n",
    "\n",
    "        for i in range(len(testing_reviews)):\n",
    "            pred = self.run(testing_reviews[i])\n",
    "            if(pred == testing_labels[i]):\n",
    "                correct += 1\n",
    "\n",
    "            elapsed_time = float(time.time() - start)\n",
    "            reviews_per_second = i / elapsed_time if elapsed_time > 0 else 0\n",
    "            \n",
    "            sys.stdout.write(\"\\rProgress:\" + str(100 * i/float(len(testing_reviews)))[:4] \\\n",
    "                             + \"% Speed(reviews/sec):\" + str(reviews_per_second)[0:5] \\\n",
    "                             + \" #Correct:\" + str(correct) + \" #Tested:\" + str(i+1) \\\n",
    "                             + \" Testing Accuracy:\" + str(correct * 100 / float(i+1))[:4] + \"%\")\n",
    "\n",
    "    def run(self, review):\n",
    "        \"\"\"\n",
    "        Returns a POSITIVE or NEGATIVE prediction for the given review.\n",
    "        \"\"\"\n",
    "        self.layer_1 *= 0\n",
    "        unique_indices = set()\n",
    "        for word in review.lower().split(\" \"):\n",
    "            if word in self.word2index.keys():\n",
    "                unique_indices.add(self.word2index[word])\n",
    "        for index in unique_indices:\n",
    "            self.layer_1 += self.weights_0_1[index]\n",
    "\n",
    "        layer_2 = self.sigmoid(self.layer_1.dot(self.weights_1_2))\n",
    "\n",
    "        if layer_2 >= 0.5:\n",
    "            return 'agro'\n",
    "        return 'ciencia'\n"
   ]
  },
  {
   "cell_type": "code",
   "execution_count": null,
   "metadata": {
    "pycharm": {
     "is_executing": false
    }
   },
   "outputs": [],
   "source": [
    "bag_df = pd.read_csv('bag_words.csv', sep=';', index_col=0)\n",
    "#bag_df.columns = ['link', 'categoria', 'texto']"
   ]
  },
  {
   "cell_type": "code",
   "execution_count": null,
   "metadata": {
    "pycharm": {
     "is_executing": false
    }
   },
   "outputs": [],
   "source": [
    "sample = bag_df[0:149].copy()"
   ]
  },
  {
   "cell_type": "code",
   "execution_count": null,
   "metadata": {
    "pycharm": {
     "is_executing": false
    }
   },
   "outputs": [],
   "source": [
    "sample.info()"
   ]
  },
  {
   "cell_type": "code",
   "execution_count": null,
   "metadata": {
    "pycharm": {
     "is_executing": false
    }
   },
   "outputs": [],
   "source": [
    "sample.columns = ['link', 'categoria', 'texto']\n",
    "sample = sample.dropna()"
   ]
  },
  {
   "cell_type": "code",
   "execution_count": null,
   "metadata": {
    "pycharm": {
     "is_executing": false
    }
   },
   "outputs": [],
   "source": [
    "train_text = list(sample.texto[1:150])"
   ]
  },
  {
   "cell_type": "code",
   "execution_count": null,
   "metadata": {
    "pycharm": {
     "is_executing": false
    }
   },
   "outputs": [],
   "source": [
    "train_categ = list(sample.categoria[1:150])"
   ]
  },
  {
   "cell_type": "code",
   "execution_count": null,
   "metadata": {
    "pycharm": {
     "is_executing": false
    }
   },
   "outputs": [],
   "source": [
    "test_text = list(sample.texto[121:150])"
   ]
  },
  {
   "cell_type": "code",
   "execution_count": null,
   "metadata": {
    "pycharm": {
     "is_executing": false
    }
   },
   "outputs": [],
   "source": [
    "test_categ = list(sample.categoria[121:150])"
   ]
  },
  {
   "cell_type": "code",
   "execution_count": 56,
   "metadata": {
    "pycharm": {
     "is_executing": false
    }
   },
   "outputs": [],
   "source": [
    "mlp = SentimentNetwork(train_text, train_categ, learning_rate=0.001)"
   ]
  },
  {
   "cell_type": "code",
   "execution_count": 57,
   "metadata": {
    "pycharm": {
     "is_executing": false
    }
   },
   "outputs": [
    {
     "name": "stdout",
     "output_type": "stream",
     "text": [
      "\r",
      "Progress:0.0% Speed(reviews/sec):0.0 #Correct:1 #Trained:1 Training Accuracy:100.%\n"
     ]
    },
    {
     "name": "stdout",
     "output_type": "stream",
     "text": [
      "\r",
      "Progress:0.68% Speed(reviews/sec):469.4 #Correct:2 #Trained:2 Training Accuracy:100.%\r",
      "Progress:1.36% Speed(reviews/sec):649.1 #Correct:3 #Trained:3 Training Accuracy:100.%\r",
      "Progress:2.05% Speed(reviews/sec):544.6 #Correct:4 #Trained:4 Training Accuracy:100.%\r",
      "Progress:2.73% Speed(reviews/sec):533.0 #Correct:5 #Trained:5 Training Accuracy:100.%\r",
      "Progress:3.42% Speed(reviews/sec):582.8 #Correct:6 #Trained:6 Training Accuracy:100.%\r",
      "Progress:4.10% Speed(reviews/sec):635.3 #Correct:7 #Trained:7 Training Accuracy:100.%\r",
      "Progress:4.79% Speed(reviews/sec):689.7 #Correct:8 #Trained:8 Training Accuracy:100.%\r",
      "Progress:5.47% Speed(reviews/sec):537.6 #Correct:9 #Trained:9 Training Accuracy:100.%\r",
      "Progress:6.16% Speed(reviews/sec):574.8 #Correct:10 #Trained:10 Training Accuracy:100.%\r",
      "Progress:6.84% Speed(reviews/sec):561.1 #Correct:11 #Trained:11 Training Accuracy:100.%\r",
      "Progress:7.53% Speed(reviews/sec):585.8 #Correct:12 #Trained:12 Training Accuracy:100.%\r",
      "Progress:8.21% Speed(reviews/sec):551.4 #Correct:13 #Trained:13 Training Accuracy:100.%\r",
      "Progress:8.90% Speed(reviews/sec):557.1 #Correct:14 #Trained:14 Training Accuracy:100.%\r",
      "Progress:9.58% Speed(reviews/sec):580.1 #Correct:15 #Trained:15 Training Accuracy:100.%\r",
      "Progress:10.2% Speed(reviews/sec):583.1 #Correct:16 #Trained:16 Training Accuracy:100.%\r",
      "Progress:10.9% Speed(reviews/sec):593.0 #Correct:17 #Trained:17 Training Accuracy:100.%\r",
      "Progress:11.6% Speed(reviews/sec):599.3 #Correct:18 #Trained:18 Training Accuracy:100.%\r",
      "Progress:12.3% Speed(reviews/sec):525.2 #Correct:19 #Trained:19 Training Accuracy:100.%\r",
      "Progress:13.0% Speed(reviews/sec):541.3 #Correct:20 #Trained:20 Training Accuracy:100.%\r",
      "Progress:13.6% Speed(reviews/sec):534.8 #Correct:21 #Trained:21 Training Accuracy:100.%\r",
      "Progress:14.3% Speed(reviews/sec):532.7 #Correct:22 #Trained:22 Training Accuracy:100.%\r",
      "Progress:15.0% Speed(reviews/sec):530.7 #Correct:23 #Trained:23 Training Accuracy:100.%\r",
      "Progress:15.7% Speed(reviews/sec):541.7 #Correct:24 #Trained:24 Training Accuracy:100.%\r",
      "Progress:16.4% Speed(reviews/sec):555.4 #Correct:25 #Trained:25 Training Accuracy:100.%\r",
      "Progress:17.1% Speed(reviews/sec):563.9 #Correct:26 #Trained:26 Training Accuracy:100.%\r",
      "Progress:17.8% Speed(reviews/sec):569.4 #Correct:27 #Trained:27 Training Accuracy:100.%\r",
      "Progress:18.4% Speed(reviews/sec):564.3 #Correct:28 #Trained:28 Training Accuracy:100.%\r",
      "Progress:19.1% Speed(reviews/sec):569.1 #Correct:29 #Trained:29 Training Accuracy:100.%\r",
      "Progress:19.8% Speed(reviews/sec):566.7 #Correct:30 #Trained:30 Training Accuracy:100.%\r",
      "Progress:20.5% Speed(reviews/sec):575.4 #Correct:31 #Trained:31 Training Accuracy:100.%\r",
      "Progress:21.2% Speed(reviews/sec):571.7 #Correct:32 #Trained:32 Training Accuracy:100.%\r",
      "Progress:21.9% Speed(reviews/sec):579.4 #Correct:33 #Trained:33 Training Accuracy:100.%\r",
      "Progress:22.6% Speed(reviews/sec):594.2 #Correct:34 #Trained:34 Training Accuracy:100.%\r",
      "Progress:23.2% Speed(reviews/sec):599.5 #Correct:35 #Trained:35 Training Accuracy:100.%\r",
      "Progress:23.9% Speed(reviews/sec):603.3 #Correct:36 #Trained:36 Training Accuracy:100.%\r",
      "Progress:24.6% Speed(reviews/sec):607.6 #Correct:37 #Trained:37 Training Accuracy:100.%\r",
      "Progress:25.3% Speed(reviews/sec):588.7 #Correct:38 #Trained:38 Training Accuracy:100.%\r",
      "Progress:26.0% Speed(reviews/sec):596.4 #Correct:39 #Trained:39 Training Accuracy:100.%\r",
      "Progress:26.7% Speed(reviews/sec):599.3 #Correct:40 #Trained:40 Training Accuracy:100.%\r",
      "Progress:27.3% Speed(reviews/sec):603.6 #Correct:41 #Trained:41 Training Accuracy:100.%\r",
      "Progress:28.0% Speed(reviews/sec):601.9 #Correct:42 #Trained:42 Training Accuracy:100.%\r",
      "Progress:28.7% Speed(reviews/sec):598.4 #Correct:43 #Trained:43 Training Accuracy:100.%\r",
      "Progress:29.4% Speed(reviews/sec):606.5 #Correct:44 #Trained:44 Training Accuracy:100.%\r",
      "Progress:30.1% Speed(reviews/sec):607.3 #Correct:45 #Trained:45 Training Accuracy:100.%\r",
      "Progress:30.8% Speed(reviews/sec):607.4 #Correct:46 #Trained:46 Training Accuracy:100.%\r",
      "Progress:31.5% Speed(reviews/sec):614.2 #Correct:47 #Trained:47 Training Accuracy:100.%\r",
      "Progress:32.1% Speed(reviews/sec):621.9 #Correct:48 #Trained:48 Training Accuracy:100.%\r",
      "Progress:32.8% Speed(reviews/sec):625.1 #Correct:49 #Trained:49 Training Accuracy:100.%\r",
      "Progress:33.5% Speed(reviews/sec):628.0 #Correct:50 #Trained:50 Training Accuracy:100.%\r",
      "Progress:34.2% Speed(reviews/sec):629.4 #Correct:51 #Trained:51 Training Accuracy:100.%\r",
      "Progress:34.9% Speed(reviews/sec):631.5 #Correct:52 #Trained:52 Training Accuracy:100.%\r",
      "Progress:35.6% Speed(reviews/sec):632.3 #Correct:53 #Trained:53 Training Accuracy:100.%\r",
      "Progress:36.3% Speed(reviews/sec):634.9 #Correct:54 #Trained:54 Training Accuracy:100.%\r",
      "Progress:36.9% Speed(reviews/sec):611.8 #Correct:55 #Trained:55 Training Accuracy:100.%\r",
      "Progress:37.6% Speed(reviews/sec):613.3 #Correct:56 #Trained:56 Training Accuracy:100.%\r",
      "Progress:38.3% Speed(reviews/sec):612.7 #Correct:57 #Trained:57 Training Accuracy:100.%\r",
      "Progress:39.0% Speed(reviews/sec):598.7 #Correct:58 #Trained:58 Training Accuracy:100.%\r",
      "Progress:39.7% Speed(reviews/sec):601.0 #Correct:59 #Trained:59 Training Accuracy:100.%\r",
      "Progress:40.4% Speed(reviews/sec):596.7 #Correct:60 #Trained:60 Training Accuracy:100.%\r",
      "Progress:41.0% Speed(reviews/sec):597.5 #Correct:61 #Trained:61 Training Accuracy:100.%\r",
      "Progress:41.7% Speed(reviews/sec):597.0 #Correct:62 #Trained:62 Training Accuracy:100.%\r",
      "Progress:42.4% Speed(reviews/sec):593.9 #Correct:62 #Trained:63 Training Accuracy:98.4%\r",
      "Progress:43.1% Speed(reviews/sec):590.7 #Correct:62 #Trained:64 Training Accuracy:96.8%\r",
      "Progress:43.8% Speed(reviews/sec):591.8 #Correct:62 #Trained:65 Training Accuracy:95.3%\r",
      "Progress:44.5% Speed(reviews/sec):594.7 #Correct:62 #Trained:66 Training Accuracy:93.9%\r",
      "Progress:45.2% Speed(reviews/sec):597.7 #Correct:62 #Trained:67 Training Accuracy:92.5%\r",
      "Progress:45.8% Speed(reviews/sec):601.6 #Correct:62 #Trained:68 Training Accuracy:91.1%\r",
      "Progress:46.5% Speed(reviews/sec):604.0 #Correct:62 #Trained:69 Training Accuracy:89.8%\r",
      "Progress:47.2% Speed(reviews/sec):605.5 #Correct:62 #Trained:70 Training Accuracy:88.5%\r",
      "Progress:47.9% Speed(reviews/sec):607.2 #Correct:62 #Trained:71 Training Accuracy:87.3%\r",
      "Progress:48.6% Speed(reviews/sec):609.3 #Correct:62 #Trained:72 Training Accuracy:86.1%\r",
      "Progress:49.3% Speed(reviews/sec):615.1 #Correct:62 #Trained:73 Training Accuracy:84.9%\r",
      "Progress:50.0% Speed(reviews/sec):612.3 #Correct:62 #Trained:74 Training Accuracy:83.7%\r",
      "Progress:50.6% Speed(reviews/sec):615.8 #Correct:62 #Trained:75 Training Accuracy:82.6%\r",
      "Progress:51.3% Speed(reviews/sec):605.6 #Correct:62 #Trained:76 Training Accuracy:81.5%\r",
      "Progress:52.0% Speed(reviews/sec):604.5 #Correct:62 #Trained:77 Training Accuracy:80.5%\r",
      "Progress:52.7% Speed(reviews/sec):606.5 #Correct:62 #Trained:78 Training Accuracy:79.4%\r",
      "Progress:53.4% Speed(reviews/sec):607.3 #Correct:62 #Trained:79 Training Accuracy:78.4%\r",
      "Progress:54.1% Speed(reviews/sec):608.1 #Correct:62 #Trained:80 Training Accuracy:77.5%\r",
      "Progress:54.7% Speed(reviews/sec):608.3 #Correct:62 #Trained:81 Training Accuracy:76.5%\r",
      "Progress:55.4% Speed(reviews/sec):604.2 #Correct:62 #Trained:82 Training Accuracy:75.6%\r",
      "Progress:56.1% Speed(reviews/sec):603.8 #Correct:62 #Trained:83 Training Accuracy:74.6%\r",
      "Progress:56.8% Speed(reviews/sec):603.3 #Correct:62 #Trained:84 Training Accuracy:73.8%\r",
      "Progress:57.5% Speed(reviews/sec):600.8 #Correct:62 #Trained:85 Training Accuracy:72.9%\r",
      "Progress:58.2% Speed(reviews/sec):600.2 #Correct:62 #Trained:86 Training Accuracy:72.0%\r",
      "Progress:58.9% Speed(reviews/sec):604.2 #Correct:62 #Trained:87 Training Accuracy:71.2%\r",
      "Progress:59.5% Speed(reviews/sec):606.0 #Correct:62 #Trained:88 Training Accuracy:70.4%\r",
      "Progress:60.2% Speed(reviews/sec):605.0 #Correct:62 #Trained:89 Training Accuracy:69.6%\r",
      "Progress:60.9% Speed(reviews/sec):605.2 #Correct:62 #Trained:90 Training Accuracy:68.8%\r",
      "Progress:61.6% Speed(reviews/sec):607.6 #Correct:62 #Trained:91 Training Accuracy:68.1%\r",
      "Progress:62.3% Speed(reviews/sec):609.9 #Correct:62 #Trained:92 Training Accuracy:67.3%\r",
      "Progress:63.0% Speed(reviews/sec):608.3 #Correct:62 #Trained:93 Training Accuracy:66.6%\r",
      "Progress:63.6% Speed(reviews/sec):604.8 #Correct:62 #Trained:94 Training Accuracy:65.9%\r",
      "Progress:64.3% Speed(reviews/sec):605.4 #Correct:62 #Trained:95 Training Accuracy:65.2%\r",
      "Progress:65.0% Speed(reviews/sec):607.0 #Correct:62 #Trained:96 Training Accuracy:64.5%\r",
      "Progress:65.7% Speed(reviews/sec):606.5 #Correct:62 #Trained:97 Training Accuracy:63.9%\r",
      "Progress:66.4% Speed(reviews/sec):604.7 #Correct:62 #Trained:98 Training Accuracy:63.2%\r",
      "Progress:67.1% Speed(reviews/sec):602.9 #Correct:62 #Trained:99 Training Accuracy:62.6%\r",
      "Progress:67.8% Speed(reviews/sec):604.7 #Correct:62 #Trained:100 Training Accuracy:62.0%\r",
      "Progress:68.4% Speed(reviews/sec):608.9 #Correct:62 #Trained:101 Training Accuracy:61.3%\r",
      "Progress:69.1% Speed(reviews/sec):607.7 #Correct:62 #Trained:102 Training Accuracy:60.7%\r",
      "Progress:69.8% Speed(reviews/sec):609.9 #Correct:62 #Trained:103 Training Accuracy:60.1%\r",
      "Progress:70.5% Speed(reviews/sec):610.8 #Correct:62 #Trained:104 Training Accuracy:59.6%\r",
      "Progress:71.2% Speed(reviews/sec):608.7 #Correct:62 #Trained:105 Training Accuracy:59.0%\r",
      "Progress:71.9% Speed(reviews/sec):610.3 #Correct:62 #Trained:106 Training Accuracy:58.4%\r",
      "Progress:72.6% Speed(reviews/sec):613.8 #Correct:62 #Trained:107 Training Accuracy:57.9%\r",
      "Progress:73.2% Speed(reviews/sec):616.7 #Correct:62 #Trained:108 Training Accuracy:57.4%\r",
      "Progress:73.9% Speed(reviews/sec):619.3 #Correct:62 #Trained:109 Training Accuracy:56.8%\r",
      "Progress:74.6% Speed(reviews/sec):621.0 #Correct:62 #Trained:110 Training Accuracy:56.3%\r",
      "Progress:75.3% Speed(reviews/sec):621.9 #Correct:62 #Trained:111 Training Accuracy:55.8%\r",
      "Progress:76.0% Speed(reviews/sec):618.2 #Correct:62 #Trained:112 Training Accuracy:55.3%\r",
      "Progress:76.7% Speed(reviews/sec):618.2 #Correct:62 #Trained:113 Training Accuracy:54.8%\r",
      "Progress:77.3% Speed(reviews/sec):617.4 #Correct:62 #Trained:114 Training Accuracy:54.3%\r",
      "Progress:78.0% Speed(reviews/sec):618.1 #Correct:62 #Trained:115 Training Accuracy:53.9%\r",
      "Progress:78.7% Speed(reviews/sec):621.9 #Correct:62 #Trained:116 Training Accuracy:53.4%\r",
      "Progress:79.4% Speed(reviews/sec):621.8 #Correct:62 #Trained:117 Training Accuracy:52.9%\r",
      "Progress:80.1% Speed(reviews/sec):622.2 #Correct:62 #Trained:118 Training Accuracy:52.5%\r",
      "Progress:80.8% Speed(reviews/sec):620.1 #Correct:62 #Trained:119 Training Accuracy:52.1%\r",
      "Progress:81.5% Speed(reviews/sec):622.2 #Correct:62 #Trained:120 Training Accuracy:51.6%\r",
      "Progress:82.1% Speed(reviews/sec):622.7 #Correct:62 #Trained:121 Training Accuracy:51.2%\r",
      "Progress:82.8% Speed(reviews/sec):622.2 #Correct:62 #Trained:122 Training Accuracy:50.8%\r",
      "Progress:83.5% Speed(reviews/sec):623.8 #Correct:62 #Trained:123 Training Accuracy:50.4%\r",
      "Progress:84.2% Speed(reviews/sec):622.7 #Correct:62 #Trained:124 Training Accuracy:50.0%\r",
      "Progress:84.9% Speed(reviews/sec):625.9 #Correct:62 #Trained:125 Training Accuracy:49.6%\r",
      "Progress:85.6% Speed(reviews/sec):626.7 #Correct:62 #Trained:126 Training Accuracy:49.2%\r",
      "Progress:86.3% Speed(reviews/sec):629.5 #Correct:62 #Trained:127 Training Accuracy:48.8%\r",
      "Progress:86.9% Speed(reviews/sec):631.1 #Correct:62 #Trained:128 Training Accuracy:48.4%\r",
      "Progress:87.6% Speed(reviews/sec):632.0 #Correct:62 #Trained:129 Training Accuracy:48.0%\r",
      "Progress:88.3% Speed(reviews/sec):628.0 #Correct:62 #Trained:130 Training Accuracy:47.6%\r",
      "Progress:89.0% Speed(reviews/sec):623.2 #Correct:62 #Trained:131 Training Accuracy:47.3%\r",
      "Progress:89.7% Speed(reviews/sec):625.0 #Correct:62 #Trained:132 Training Accuracy:46.9%\r",
      "Progress:90.4% Speed(reviews/sec):625.0 #Correct:62 #Trained:133 Training Accuracy:46.6%\r",
      "Progress:91.0% Speed(reviews/sec):623.8 #Correct:62 #Trained:134 Training Accuracy:46.2%\r",
      "Progress:91.7% Speed(reviews/sec):623.0 #Correct:62 #Trained:135 Training Accuracy:45.9%\r",
      "Progress:92.4% Speed(reviews/sec):622.5 #Correct:62 #Trained:136 Training Accuracy:45.5%\r",
      "Progress:93.1% Speed(reviews/sec):620.3 #Correct:62 #Trained:137 Training Accuracy:45.2%\r",
      "Progress:93.8% Speed(reviews/sec):617.7 #Correct:62 #Trained:138 Training Accuracy:44.9%\r",
      "Progress:94.5% Speed(reviews/sec):618.6 #Correct:62 #Trained:139 Training Accuracy:44.6%\r",
      "Progress:95.2% Speed(reviews/sec):617.8 #Correct:62 #Trained:140 Training Accuracy:44.2%\r",
      "Progress:95.8% Speed(reviews/sec):615.2 #Correct:62 #Trained:141 Training Accuracy:43.9%\r",
      "Progress:96.5% Speed(reviews/sec):615.6 #Correct:62 #Trained:142 Training Accuracy:43.6%\r",
      "Progress:97.2% Speed(reviews/sec):615.1 #Correct:62 #Trained:143 Training Accuracy:43.3%\r",
      "Progress:97.9% Speed(reviews/sec):615.8 #Correct:62 #Trained:144 Training Accuracy:43.0%\r",
      "Progress:98.6% Speed(reviews/sec):617.2 #Correct:62 #Trained:145 Training Accuracy:42.7%\r",
      "Progress:99.3% Speed(reviews/sec):619.5 #Correct:62 #Trained:146 Training Accuracy:42.4%"
     ]
    }
   ],
   "source": [
    "mlp.train(train_text, train_categ)"
   ]
  },
  {
   "cell_type": "code",
   "execution_count": 58,
   "metadata": {
    "pycharm": {
     "is_executing": false
    }
   },
   "outputs": [
    {
     "name": "stdout",
     "output_type": "stream",
     "text": [
      "Progress:99.3% Speed(reviews/sec):15.16 #Correct:30 #Tested:146 Testing Accuracy:20.5%"
     ]
    }
   ],
   "source": [
    "mlp.test(train_text, train_categ)"
   ]
  },
  {
   "cell_type": "code",
   "execution_count": null,
   "metadata": {
    "pycharm": {
     "is_executing": false
    }
   },
   "outputs": [],
   "source": []
  },
  {
   "cell_type": "code",
   "execution_count": null,
   "metadata": {
    "pycharm": {
     "is_executing": false
    }
   },
   "outputs": [],
   "source": []
  }
 ],
 "metadata": {
  "kernelspec": {
   "display_name": "Python 2",
   "language": "python",
   "name": "python2"
  },
  "language_info": {
   "codemirror_mode": {
    "name": "ipython",
    "version": 2
   },
   "file_extension": ".py",
   "mimetype": "text/x-python",
   "name": "python",
   "nbconvert_exporter": "python",
   "pygments_lexer": "ipython2",
   "version": "2.7.17"
  },
  "pycharm": {
   "stem_cell": {
    "cell_type": "raw",
    "metadata": {
     "collapsed": false
    },
    "source": []
   }
  }
 },
 "nbformat": 4,
 "nbformat_minor": 1
}
